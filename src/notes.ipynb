{
 "cells": [
  {
   "attachments": {},
   "cell_type": "markdown",
   "metadata": {},
   "source": [
    "### deleted"
   ]
  },
  {
   "cell_type": "code",
   "execution_count": null,
   "metadata": {},
   "outputs": [],
   "source": [
    "    label_names = [\"saree\", \"women kurta\",\n",
    "                   \"leggins and salwar\",\n",
    "                   \"palazzo\", \"lehenga\",\n",
    "                   \"dupatta\", \"blouse\",\n",
    "                   \"gown\", \"dhoti pants\",\n",
    "                   \"petticoats\", \"women mojari\",\n",
    "                   \"men kurta\", \"nehru jacket\",\n",
    "                   \"sherwani\", \"men mojari\"]"
   ]
  },
  {
   "cell_type": "code",
   "execution_count": null,
   "metadata": {},
   "outputs": [],
   "source": [
    "    ((X_train, y_train), (X_test, y_test)) = #load data here...\n",
    "    \n",
    "\n",
    "    X_train = X_train.astype(\"float\") / 255.\n",
    "    X_test = X_test.astype(\"float\") / 255.\n",
    "\n",
    "    # integers to one-hot vectors\n",
    "    lb = LabelBinarizer()\n",
    "    y_train = lb.fit_transform(y_train)\n",
    "    y_test = lb.fit_transform(y_test)"
   ]
  }
 ],
 "metadata": {
  "kernelspec": {
   "display_name": "Python 3",
   "language": "python",
   "name": "python3"
  },
  "language_info": {
   "name": "python",
   "version": "3.11.2 (v3.11.2:878ead1ac1, Feb  7 2023, 10:02:41) [Clang 13.0.0 (clang-1300.0.29.30)]"
  },
  "orig_nbformat": 4,
  "vscode": {
   "interpreter": {
    "hash": "aee8b7b246df8f9039afb4144a1f6fd8d2ca17a180786b69acc140d282b71a49"
   }
  }
 },
 "nbformat": 4,
 "nbformat_minor": 2
}
